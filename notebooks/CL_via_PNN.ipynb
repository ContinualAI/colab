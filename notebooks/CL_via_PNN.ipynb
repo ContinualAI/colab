{
  "nbformat": 4,
  "nbformat_minor": 0,
  "metadata": {
    "colab": {
      "name": "CL_via_PNN.ipynb",
      "provenance": [],
      "collapsed_sections": []
    },
    "kernelspec": {
      "name": "python3",
      "display_name": "Python 3"
    },
    "widgets": {
      "application/vnd.jupyter.widget-state+json": {
        "f2653f3aa953455986c4a198864108e5": {
          "model_module": "@jupyter-widgets/controls",
          "model_name": "HBoxModel",
          "state": {
            "_view_name": "HBoxView",
            "_dom_classes": [],
            "_model_name": "HBoxModel",
            "_view_module": "@jupyter-widgets/controls",
            "_model_module_version": "1.5.0",
            "_view_count": null,
            "_view_module_version": "1.5.0",
            "box_style": "",
            "layout": "IPY_MODEL_d14d943a287a45ed8b0f729300dbd25f",
            "_model_module": "@jupyter-widgets/controls",
            "children": [
              "IPY_MODEL_a58ed18aa9a44e1785848282bae29ce8",
              "IPY_MODEL_cb43278a5fc34cbf9bb97ef59a7b74d9"
            ]
          }
        },
        "d14d943a287a45ed8b0f729300dbd25f": {
          "model_module": "@jupyter-widgets/base",
          "model_name": "LayoutModel",
          "state": {
            "_view_name": "LayoutView",
            "grid_template_rows": null,
            "right": null,
            "justify_content": null,
            "_view_module": "@jupyter-widgets/base",
            "overflow": null,
            "_model_module_version": "1.2.0",
            "_view_count": null,
            "flex_flow": null,
            "width": null,
            "min_width": null,
            "border": null,
            "align_items": null,
            "bottom": null,
            "_model_module": "@jupyter-widgets/base",
            "top": null,
            "grid_column": null,
            "overflow_y": null,
            "overflow_x": null,
            "grid_auto_flow": null,
            "grid_area": null,
            "grid_template_columns": null,
            "flex": null,
            "_model_name": "LayoutModel",
            "justify_items": null,
            "grid_row": null,
            "max_height": null,
            "align_content": null,
            "visibility": null,
            "align_self": null,
            "height": null,
            "min_height": null,
            "padding": null,
            "grid_auto_rows": null,
            "grid_gap": null,
            "max_width": null,
            "order": null,
            "_view_module_version": "1.2.0",
            "grid_template_areas": null,
            "object_position": null,
            "object_fit": null,
            "grid_auto_columns": null,
            "margin": null,
            "display": null,
            "left": null
          }
        },
        "a58ed18aa9a44e1785848282bae29ce8": {
          "model_module": "@jupyter-widgets/controls",
          "model_name": "FloatProgressModel",
          "state": {
            "_view_name": "ProgressView",
            "style": "IPY_MODEL_37d1d4862f83482ea014011a96b1e92f",
            "_dom_classes": [],
            "description": "",
            "_model_name": "FloatProgressModel",
            "bar_style": "success",
            "max": 9912422,
            "_view_module": "@jupyter-widgets/controls",
            "_model_module_version": "1.5.0",
            "value": 9912422,
            "_view_count": null,
            "_view_module_version": "1.5.0",
            "orientation": "horizontal",
            "min": 0,
            "description_tooltip": null,
            "_model_module": "@jupyter-widgets/controls",
            "layout": "IPY_MODEL_c9874f99fb474ed2a3883b8663781d60"
          }
        },
        "cb43278a5fc34cbf9bb97ef59a7b74d9": {
          "model_module": "@jupyter-widgets/controls",
          "model_name": "HTMLModel",
          "state": {
            "_view_name": "HTMLView",
            "style": "IPY_MODEL_41b3992effba4b929265689ec4ab8f96",
            "_dom_classes": [],
            "description": "",
            "_model_name": "HTMLModel",
            "placeholder": "​",
            "_view_module": "@jupyter-widgets/controls",
            "_model_module_version": "1.5.0",
            "value": " 9913344/? [00:00&lt;00:00, 10694118.71it/s]",
            "_view_count": null,
            "_view_module_version": "1.5.0",
            "description_tooltip": null,
            "_model_module": "@jupyter-widgets/controls",
            "layout": "IPY_MODEL_bcc4d3ebf8684df3b440e52226e4a97e"
          }
        },
        "37d1d4862f83482ea014011a96b1e92f": {
          "model_module": "@jupyter-widgets/controls",
          "model_name": "ProgressStyleModel",
          "state": {
            "_view_name": "StyleView",
            "_model_name": "ProgressStyleModel",
            "description_width": "initial",
            "_view_module": "@jupyter-widgets/base",
            "_model_module_version": "1.5.0",
            "_view_count": null,
            "_view_module_version": "1.2.0",
            "bar_color": null,
            "_model_module": "@jupyter-widgets/controls"
          }
        },
        "c9874f99fb474ed2a3883b8663781d60": {
          "model_module": "@jupyter-widgets/base",
          "model_name": "LayoutModel",
          "state": {
            "_view_name": "LayoutView",
            "grid_template_rows": null,
            "right": null,
            "justify_content": null,
            "_view_module": "@jupyter-widgets/base",
            "overflow": null,
            "_model_module_version": "1.2.0",
            "_view_count": null,
            "flex_flow": null,
            "width": null,
            "min_width": null,
            "border": null,
            "align_items": null,
            "bottom": null,
            "_model_module": "@jupyter-widgets/base",
            "top": null,
            "grid_column": null,
            "overflow_y": null,
            "overflow_x": null,
            "grid_auto_flow": null,
            "grid_area": null,
            "grid_template_columns": null,
            "flex": null,
            "_model_name": "LayoutModel",
            "justify_items": null,
            "grid_row": null,
            "max_height": null,
            "align_content": null,
            "visibility": null,
            "align_self": null,
            "height": null,
            "min_height": null,
            "padding": null,
            "grid_auto_rows": null,
            "grid_gap": null,
            "max_width": null,
            "order": null,
            "_view_module_version": "1.2.0",
            "grid_template_areas": null,
            "object_position": null,
            "object_fit": null,
            "grid_auto_columns": null,
            "margin": null,
            "display": null,
            "left": null
          }
        },
        "41b3992effba4b929265689ec4ab8f96": {
          "model_module": "@jupyter-widgets/controls",
          "model_name": "DescriptionStyleModel",
          "state": {
            "_view_name": "StyleView",
            "_model_name": "DescriptionStyleModel",
            "description_width": "",
            "_view_module": "@jupyter-widgets/base",
            "_model_module_version": "1.5.0",
            "_view_count": null,
            "_view_module_version": "1.2.0",
            "_model_module": "@jupyter-widgets/controls"
          }
        },
        "bcc4d3ebf8684df3b440e52226e4a97e": {
          "model_module": "@jupyter-widgets/base",
          "model_name": "LayoutModel",
          "state": {
            "_view_name": "LayoutView",
            "grid_template_rows": null,
            "right": null,
            "justify_content": null,
            "_view_module": "@jupyter-widgets/base",
            "overflow": null,
            "_model_module_version": "1.2.0",
            "_view_count": null,
            "flex_flow": null,
            "width": null,
            "min_width": null,
            "border": null,
            "align_items": null,
            "bottom": null,
            "_model_module": "@jupyter-widgets/base",
            "top": null,
            "grid_column": null,
            "overflow_y": null,
            "overflow_x": null,
            "grid_auto_flow": null,
            "grid_area": null,
            "grid_template_columns": null,
            "flex": null,
            "_model_name": "LayoutModel",
            "justify_items": null,
            "grid_row": null,
            "max_height": null,
            "align_content": null,
            "visibility": null,
            "align_self": null,
            "height": null,
            "min_height": null,
            "padding": null,
            "grid_auto_rows": null,
            "grid_gap": null,
            "max_width": null,
            "order": null,
            "_view_module_version": "1.2.0",
            "grid_template_areas": null,
            "object_position": null,
            "object_fit": null,
            "grid_auto_columns": null,
            "margin": null,
            "display": null,
            "left": null
          }
        },
        "1bb37f91620541b8916b5ede3c603bdf": {
          "model_module": "@jupyter-widgets/controls",
          "model_name": "HBoxModel",
          "state": {
            "_view_name": "HBoxView",
            "_dom_classes": [],
            "_model_name": "HBoxModel",
            "_view_module": "@jupyter-widgets/controls",
            "_model_module_version": "1.5.0",
            "_view_count": null,
            "_view_module_version": "1.5.0",
            "box_style": "",
            "layout": "IPY_MODEL_cc2492d98d2f42538ca6d8268e6af42b",
            "_model_module": "@jupyter-widgets/controls",
            "children": [
              "IPY_MODEL_cdc47a3040ce4d84b5f8fa93565df518",
              "IPY_MODEL_fd644821bb4b41f1aa0a4d4b3d919778"
            ]
          }
        },
        "cc2492d98d2f42538ca6d8268e6af42b": {
          "model_module": "@jupyter-widgets/base",
          "model_name": "LayoutModel",
          "state": {
            "_view_name": "LayoutView",
            "grid_template_rows": null,
            "right": null,
            "justify_content": null,
            "_view_module": "@jupyter-widgets/base",
            "overflow": null,
            "_model_module_version": "1.2.0",
            "_view_count": null,
            "flex_flow": null,
            "width": null,
            "min_width": null,
            "border": null,
            "align_items": null,
            "bottom": null,
            "_model_module": "@jupyter-widgets/base",
            "top": null,
            "grid_column": null,
            "overflow_y": null,
            "overflow_x": null,
            "grid_auto_flow": null,
            "grid_area": null,
            "grid_template_columns": null,
            "flex": null,
            "_model_name": "LayoutModel",
            "justify_items": null,
            "grid_row": null,
            "max_height": null,
            "align_content": null,
            "visibility": null,
            "align_self": null,
            "height": null,
            "min_height": null,
            "padding": null,
            "grid_auto_rows": null,
            "grid_gap": null,
            "max_width": null,
            "order": null,
            "_view_module_version": "1.2.0",
            "grid_template_areas": null,
            "object_position": null,
            "object_fit": null,
            "grid_auto_columns": null,
            "margin": null,
            "display": null,
            "left": null
          }
        },
        "cdc47a3040ce4d84b5f8fa93565df518": {
          "model_module": "@jupyter-widgets/controls",
          "model_name": "FloatProgressModel",
          "state": {
            "_view_name": "ProgressView",
            "style": "IPY_MODEL_df7c99226e2845e1ae94ad1625a87d9d",
            "_dom_classes": [],
            "description": "",
            "_model_name": "FloatProgressModel",
            "bar_style": "success",
            "max": 28881,
            "_view_module": "@jupyter-widgets/controls",
            "_model_module_version": "1.5.0",
            "value": 28881,
            "_view_count": null,
            "_view_module_version": "1.5.0",
            "orientation": "horizontal",
            "min": 0,
            "description_tooltip": null,
            "_model_module": "@jupyter-widgets/controls",
            "layout": "IPY_MODEL_32688a8e962947bb88b15c1563fd1efd"
          }
        },
        "fd644821bb4b41f1aa0a4d4b3d919778": {
          "model_module": "@jupyter-widgets/controls",
          "model_name": "HTMLModel",
          "state": {
            "_view_name": "HTMLView",
            "style": "IPY_MODEL_c422208812d1456abadf064c76b78d19",
            "_dom_classes": [],
            "description": "",
            "_model_name": "HTMLModel",
            "placeholder": "​",
            "_view_module": "@jupyter-widgets/controls",
            "_model_module_version": "1.5.0",
            "value": " 29696/? [00:00&lt;00:00, 89544.23it/s]",
            "_view_count": null,
            "_view_module_version": "1.5.0",
            "description_tooltip": null,
            "_model_module": "@jupyter-widgets/controls",
            "layout": "IPY_MODEL_b75a9ceb94954fb0b2d73ab09dd15d7a"
          }
        },
        "df7c99226e2845e1ae94ad1625a87d9d": {
          "model_module": "@jupyter-widgets/controls",
          "model_name": "ProgressStyleModel",
          "state": {
            "_view_name": "StyleView",
            "_model_name": "ProgressStyleModel",
            "description_width": "initial",
            "_view_module": "@jupyter-widgets/base",
            "_model_module_version": "1.5.0",
            "_view_count": null,
            "_view_module_version": "1.2.0",
            "bar_color": null,
            "_model_module": "@jupyter-widgets/controls"
          }
        },
        "32688a8e962947bb88b15c1563fd1efd": {
          "model_module": "@jupyter-widgets/base",
          "model_name": "LayoutModel",
          "state": {
            "_view_name": "LayoutView",
            "grid_template_rows": null,
            "right": null,
            "justify_content": null,
            "_view_module": "@jupyter-widgets/base",
            "overflow": null,
            "_model_module_version": "1.2.0",
            "_view_count": null,
            "flex_flow": null,
            "width": null,
            "min_width": null,
            "border": null,
            "align_items": null,
            "bottom": null,
            "_model_module": "@jupyter-widgets/base",
            "top": null,
            "grid_column": null,
            "overflow_y": null,
            "overflow_x": null,
            "grid_auto_flow": null,
            "grid_area": null,
            "grid_template_columns": null,
            "flex": null,
            "_model_name": "LayoutModel",
            "justify_items": null,
            "grid_row": null,
            "max_height": null,
            "align_content": null,
            "visibility": null,
            "align_self": null,
            "height": null,
            "min_height": null,
            "padding": null,
            "grid_auto_rows": null,
            "grid_gap": null,
            "max_width": null,
            "order": null,
            "_view_module_version": "1.2.0",
            "grid_template_areas": null,
            "object_position": null,
            "object_fit": null,
            "grid_auto_columns": null,
            "margin": null,
            "display": null,
            "left": null
          }
        },
        "c422208812d1456abadf064c76b78d19": {
          "model_module": "@jupyter-widgets/controls",
          "model_name": "DescriptionStyleModel",
          "state": {
            "_view_name": "StyleView",
            "_model_name": "DescriptionStyleModel",
            "description_width": "",
            "_view_module": "@jupyter-widgets/base",
            "_model_module_version": "1.5.0",
            "_view_count": null,
            "_view_module_version": "1.2.0",
            "_model_module": "@jupyter-widgets/controls"
          }
        },
        "b75a9ceb94954fb0b2d73ab09dd15d7a": {
          "model_module": "@jupyter-widgets/base",
          "model_name": "LayoutModel",
          "state": {
            "_view_name": "LayoutView",
            "grid_template_rows": null,
            "right": null,
            "justify_content": null,
            "_view_module": "@jupyter-widgets/base",
            "overflow": null,
            "_model_module_version": "1.2.0",
            "_view_count": null,
            "flex_flow": null,
            "width": null,
            "min_width": null,
            "border": null,
            "align_items": null,
            "bottom": null,
            "_model_module": "@jupyter-widgets/base",
            "top": null,
            "grid_column": null,
            "overflow_y": null,
            "overflow_x": null,
            "grid_auto_flow": null,
            "grid_area": null,
            "grid_template_columns": null,
            "flex": null,
            "_model_name": "LayoutModel",
            "justify_items": null,
            "grid_row": null,
            "max_height": null,
            "align_content": null,
            "visibility": null,
            "align_self": null,
            "height": null,
            "min_height": null,
            "padding": null,
            "grid_auto_rows": null,
            "grid_gap": null,
            "max_width": null,
            "order": null,
            "_view_module_version": "1.2.0",
            "grid_template_areas": null,
            "object_position": null,
            "object_fit": null,
            "grid_auto_columns": null,
            "margin": null,
            "display": null,
            "left": null
          }
        },
        "2d255a2aef3c453f97cef553cda8736d": {
          "model_module": "@jupyter-widgets/controls",
          "model_name": "HBoxModel",
          "state": {
            "_view_name": "HBoxView",
            "_dom_classes": [],
            "_model_name": "HBoxModel",
            "_view_module": "@jupyter-widgets/controls",
            "_model_module_version": "1.5.0",
            "_view_count": null,
            "_view_module_version": "1.5.0",
            "box_style": "",
            "layout": "IPY_MODEL_beaa1e18b41949b6972af316b15f0968",
            "_model_module": "@jupyter-widgets/controls",
            "children": [
              "IPY_MODEL_f7feb817206d400e82a0d72a69a544c5",
              "IPY_MODEL_ace37a28ee6540dd8b8f2f60ec35c0af"
            ]
          }
        },
        "beaa1e18b41949b6972af316b15f0968": {
          "model_module": "@jupyter-widgets/base",
          "model_name": "LayoutModel",
          "state": {
            "_view_name": "LayoutView",
            "grid_template_rows": null,
            "right": null,
            "justify_content": null,
            "_view_module": "@jupyter-widgets/base",
            "overflow": null,
            "_model_module_version": "1.2.0",
            "_view_count": null,
            "flex_flow": null,
            "width": null,
            "min_width": null,
            "border": null,
            "align_items": null,
            "bottom": null,
            "_model_module": "@jupyter-widgets/base",
            "top": null,
            "grid_column": null,
            "overflow_y": null,
            "overflow_x": null,
            "grid_auto_flow": null,
            "grid_area": null,
            "grid_template_columns": null,
            "flex": null,
            "_model_name": "LayoutModel",
            "justify_items": null,
            "grid_row": null,
            "max_height": null,
            "align_content": null,
            "visibility": null,
            "align_self": null,
            "height": null,
            "min_height": null,
            "padding": null,
            "grid_auto_rows": null,
            "grid_gap": null,
            "max_width": null,
            "order": null,
            "_view_module_version": "1.2.0",
            "grid_template_areas": null,
            "object_position": null,
            "object_fit": null,
            "grid_auto_columns": null,
            "margin": null,
            "display": null,
            "left": null
          }
        },
        "f7feb817206d400e82a0d72a69a544c5": {
          "model_module": "@jupyter-widgets/controls",
          "model_name": "FloatProgressModel",
          "state": {
            "_view_name": "ProgressView",
            "style": "IPY_MODEL_b7e55265282f458abbec069027d24d35",
            "_dom_classes": [],
            "description": "",
            "_model_name": "FloatProgressModel",
            "bar_style": "success",
            "max": 1648877,
            "_view_module": "@jupyter-widgets/controls",
            "_model_module_version": "1.5.0",
            "value": 1648877,
            "_view_count": null,
            "_view_module_version": "1.5.0",
            "orientation": "horizontal",
            "min": 0,
            "description_tooltip": null,
            "_model_module": "@jupyter-widgets/controls",
            "layout": "IPY_MODEL_62bc4e0cc0e8486dadd16b59a6959e7b"
          }
        },
        "ace37a28ee6540dd8b8f2f60ec35c0af": {
          "model_module": "@jupyter-widgets/controls",
          "model_name": "HTMLModel",
          "state": {
            "_view_name": "HTMLView",
            "style": "IPY_MODEL_0c32729c90c04becaddb71b120df7e49",
            "_dom_classes": [],
            "description": "",
            "_model_name": "HTMLModel",
            "placeholder": "​",
            "_view_module": "@jupyter-widgets/controls",
            "_model_module_version": "1.5.0",
            "value": " 1649664/? [00:00&lt;00:00, 6857379.89it/s]",
            "_view_count": null,
            "_view_module_version": "1.5.0",
            "description_tooltip": null,
            "_model_module": "@jupyter-widgets/controls",
            "layout": "IPY_MODEL_77a23ee39c964ced8f1b3f26687ec5c5"
          }
        },
        "b7e55265282f458abbec069027d24d35": {
          "model_module": "@jupyter-widgets/controls",
          "model_name": "ProgressStyleModel",
          "state": {
            "_view_name": "StyleView",
            "_model_name": "ProgressStyleModel",
            "description_width": "initial",
            "_view_module": "@jupyter-widgets/base",
            "_model_module_version": "1.5.0",
            "_view_count": null,
            "_view_module_version": "1.2.0",
            "bar_color": null,
            "_model_module": "@jupyter-widgets/controls"
          }
        },
        "62bc4e0cc0e8486dadd16b59a6959e7b": {
          "model_module": "@jupyter-widgets/base",
          "model_name": "LayoutModel",
          "state": {
            "_view_name": "LayoutView",
            "grid_template_rows": null,
            "right": null,
            "justify_content": null,
            "_view_module": "@jupyter-widgets/base",
            "overflow": null,
            "_model_module_version": "1.2.0",
            "_view_count": null,
            "flex_flow": null,
            "width": null,
            "min_width": null,
            "border": null,
            "align_items": null,
            "bottom": null,
            "_model_module": "@jupyter-widgets/base",
            "top": null,
            "grid_column": null,
            "overflow_y": null,
            "overflow_x": null,
            "grid_auto_flow": null,
            "grid_area": null,
            "grid_template_columns": null,
            "flex": null,
            "_model_name": "LayoutModel",
            "justify_items": null,
            "grid_row": null,
            "max_height": null,
            "align_content": null,
            "visibility": null,
            "align_self": null,
            "height": null,
            "min_height": null,
            "padding": null,
            "grid_auto_rows": null,
            "grid_gap": null,
            "max_width": null,
            "order": null,
            "_view_module_version": "1.2.0",
            "grid_template_areas": null,
            "object_position": null,
            "object_fit": null,
            "grid_auto_columns": null,
            "margin": null,
            "display": null,
            "left": null
          }
        },
        "0c32729c90c04becaddb71b120df7e49": {
          "model_module": "@jupyter-widgets/controls",
          "model_name": "DescriptionStyleModel",
          "state": {
            "_view_name": "StyleView",
            "_model_name": "DescriptionStyleModel",
            "description_width": "",
            "_view_module": "@jupyter-widgets/base",
            "_model_module_version": "1.5.0",
            "_view_count": null,
            "_view_module_version": "1.2.0",
            "_model_module": "@jupyter-widgets/controls"
          }
        },
        "77a23ee39c964ced8f1b3f26687ec5c5": {
          "model_module": "@jupyter-widgets/base",
          "model_name": "LayoutModel",
          "state": {
            "_view_name": "LayoutView",
            "grid_template_rows": null,
            "right": null,
            "justify_content": null,
            "_view_module": "@jupyter-widgets/base",
            "overflow": null,
            "_model_module_version": "1.2.0",
            "_view_count": null,
            "flex_flow": null,
            "width": null,
            "min_width": null,
            "border": null,
            "align_items": null,
            "bottom": null,
            "_model_module": "@jupyter-widgets/base",
            "top": null,
            "grid_column": null,
            "overflow_y": null,
            "overflow_x": null,
            "grid_auto_flow": null,
            "grid_area": null,
            "grid_template_columns": null,
            "flex": null,
            "_model_name": "LayoutModel",
            "justify_items": null,
            "grid_row": null,
            "max_height": null,
            "align_content": null,
            "visibility": null,
            "align_self": null,
            "height": null,
            "min_height": null,
            "padding": null,
            "grid_auto_rows": null,
            "grid_gap": null,
            "max_width": null,
            "order": null,
            "_view_module_version": "1.2.0",
            "grid_template_areas": null,
            "object_position": null,
            "object_fit": null,
            "grid_auto_columns": null,
            "margin": null,
            "display": null,
            "left": null
          }
        },
        "8dde976777084ec7a3ece29b64c98322": {
          "model_module": "@jupyter-widgets/controls",
          "model_name": "HBoxModel",
          "state": {
            "_view_name": "HBoxView",
            "_dom_classes": [],
            "_model_name": "HBoxModel",
            "_view_module": "@jupyter-widgets/controls",
            "_model_module_version": "1.5.0",
            "_view_count": null,
            "_view_module_version": "1.5.0",
            "box_style": "",
            "layout": "IPY_MODEL_bef01186fb2f42de9af54d7cc712e8b8",
            "_model_module": "@jupyter-widgets/controls",
            "children": [
              "IPY_MODEL_2ea561f72836480fa9e3e2408533d4cd",
              "IPY_MODEL_8ec32135859d42b5ba59dab02072550e"
            ]
          }
        },
        "bef01186fb2f42de9af54d7cc712e8b8": {
          "model_module": "@jupyter-widgets/base",
          "model_name": "LayoutModel",
          "state": {
            "_view_name": "LayoutView",
            "grid_template_rows": null,
            "right": null,
            "justify_content": null,
            "_view_module": "@jupyter-widgets/base",
            "overflow": null,
            "_model_module_version": "1.2.0",
            "_view_count": null,
            "flex_flow": null,
            "width": null,
            "min_width": null,
            "border": null,
            "align_items": null,
            "bottom": null,
            "_model_module": "@jupyter-widgets/base",
            "top": null,
            "grid_column": null,
            "overflow_y": null,
            "overflow_x": null,
            "grid_auto_flow": null,
            "grid_area": null,
            "grid_template_columns": null,
            "flex": null,
            "_model_name": "LayoutModel",
            "justify_items": null,
            "grid_row": null,
            "max_height": null,
            "align_content": null,
            "visibility": null,
            "align_self": null,
            "height": null,
            "min_height": null,
            "padding": null,
            "grid_auto_rows": null,
            "grid_gap": null,
            "max_width": null,
            "order": null,
            "_view_module_version": "1.2.0",
            "grid_template_areas": null,
            "object_position": null,
            "object_fit": null,
            "grid_auto_columns": null,
            "margin": null,
            "display": null,
            "left": null
          }
        },
        "2ea561f72836480fa9e3e2408533d4cd": {
          "model_module": "@jupyter-widgets/controls",
          "model_name": "FloatProgressModel",
          "state": {
            "_view_name": "ProgressView",
            "style": "IPY_MODEL_67c66810fe124403b6243389b3ab3c66",
            "_dom_classes": [],
            "description": "",
            "_model_name": "FloatProgressModel",
            "bar_style": "success",
            "max": 4542,
            "_view_module": "@jupyter-widgets/controls",
            "_model_module_version": "1.5.0",
            "value": 4542,
            "_view_count": null,
            "_view_module_version": "1.5.0",
            "orientation": "horizontal",
            "min": 0,
            "description_tooltip": null,
            "_model_module": "@jupyter-widgets/controls",
            "layout": "IPY_MODEL_c0ebf1b025bd4873b8d794ce7ab4e5c3"
          }
        },
        "8ec32135859d42b5ba59dab02072550e": {
          "model_module": "@jupyter-widgets/controls",
          "model_name": "HTMLModel",
          "state": {
            "_view_name": "HTMLView",
            "style": "IPY_MODEL_e24354db2e5449cd8a30ee688ef33532",
            "_dom_classes": [],
            "description": "",
            "_model_name": "HTMLModel",
            "placeholder": "​",
            "_view_module": "@jupyter-widgets/controls",
            "_model_module_version": "1.5.0",
            "value": " 5120/? [00:00&lt;00:00, 89335.18it/s]",
            "_view_count": null,
            "_view_module_version": "1.5.0",
            "description_tooltip": null,
            "_model_module": "@jupyter-widgets/controls",
            "layout": "IPY_MODEL_56c25170404f48e68ee0110da21370ea"
          }
        },
        "67c66810fe124403b6243389b3ab3c66": {
          "model_module": "@jupyter-widgets/controls",
          "model_name": "ProgressStyleModel",
          "state": {
            "_view_name": "StyleView",
            "_model_name": "ProgressStyleModel",
            "description_width": "initial",
            "_view_module": "@jupyter-widgets/base",
            "_model_module_version": "1.5.0",
            "_view_count": null,
            "_view_module_version": "1.2.0",
            "bar_color": null,
            "_model_module": "@jupyter-widgets/controls"
          }
        },
        "c0ebf1b025bd4873b8d794ce7ab4e5c3": {
          "model_module": "@jupyter-widgets/base",
          "model_name": "LayoutModel",
          "state": {
            "_view_name": "LayoutView",
            "grid_template_rows": null,
            "right": null,
            "justify_content": null,
            "_view_module": "@jupyter-widgets/base",
            "overflow": null,
            "_model_module_version": "1.2.0",
            "_view_count": null,
            "flex_flow": null,
            "width": null,
            "min_width": null,
            "border": null,
            "align_items": null,
            "bottom": null,
            "_model_module": "@jupyter-widgets/base",
            "top": null,
            "grid_column": null,
            "overflow_y": null,
            "overflow_x": null,
            "grid_auto_flow": null,
            "grid_area": null,
            "grid_template_columns": null,
            "flex": null,
            "_model_name": "LayoutModel",
            "justify_items": null,
            "grid_row": null,
            "max_height": null,
            "align_content": null,
            "visibility": null,
            "align_self": null,
            "height": null,
            "min_height": null,
            "padding": null,
            "grid_auto_rows": null,
            "grid_gap": null,
            "max_width": null,
            "order": null,
            "_view_module_version": "1.2.0",
            "grid_template_areas": null,
            "object_position": null,
            "object_fit": null,
            "grid_auto_columns": null,
            "margin": null,
            "display": null,
            "left": null
          }
        },
        "e24354db2e5449cd8a30ee688ef33532": {
          "model_module": "@jupyter-widgets/controls",
          "model_name": "DescriptionStyleModel",
          "state": {
            "_view_name": "StyleView",
            "_model_name": "DescriptionStyleModel",
            "description_width": "",
            "_view_module": "@jupyter-widgets/base",
            "_model_module_version": "1.5.0",
            "_view_count": null,
            "_view_module_version": "1.2.0",
            "_model_module": "@jupyter-widgets/controls"
          }
        },
        "56c25170404f48e68ee0110da21370ea": {
          "model_module": "@jupyter-widgets/base",
          "model_name": "LayoutModel",
          "state": {
            "_view_name": "LayoutView",
            "grid_template_rows": null,
            "right": null,
            "justify_content": null,
            "_view_module": "@jupyter-widgets/base",
            "overflow": null,
            "_model_module_version": "1.2.0",
            "_view_count": null,
            "flex_flow": null,
            "width": null,
            "min_width": null,
            "border": null,
            "align_items": null,
            "bottom": null,
            "_model_module": "@jupyter-widgets/base",
            "top": null,
            "grid_column": null,
            "overflow_y": null,
            "overflow_x": null,
            "grid_auto_flow": null,
            "grid_area": null,
            "grid_template_columns": null,
            "flex": null,
            "_model_name": "LayoutModel",
            "justify_items": null,
            "grid_row": null,
            "max_height": null,
            "align_content": null,
            "visibility": null,
            "align_self": null,
            "height": null,
            "min_height": null,
            "padding": null,
            "grid_auto_rows": null,
            "grid_gap": null,
            "max_width": null,
            "order": null,
            "_view_module_version": "1.2.0",
            "grid_template_areas": null,
            "object_position": null,
            "object_fit": null,
            "grid_auto_columns": null,
            "margin": null,
            "display": null,
            "left": null
          }
        }
      }
    }
  },
  "cells": [
    {
      "cell_type": "markdown",
      "metadata": {
        "id": "okIe1XDKh5-H"
      },
      "source": [
        "\n",
        "One way to eleminate forgetting while keeping the benefits of transfer learning is to expand the network architecture with every task. By doing this, one can increase the capacity of the network to learn new tasks while retaining its perfromance on older ones. An example approach to achieve CL via architecture expansion is [Progressive Neural Networks(PNN)](https://arxiv.org/abs/1606.04671.pdf).\n",
        "\n",
        "**PNN**\n",
        "\n",
        "PNN works by having a part of the network (a column) dedicated to each task. Upon adding new tasks the previous columns weights get frozen so the network perfromance on those columns is fixed. To make the new columns benefit from the old columns knowledge through transfer learning, lateral connections `a` are added. By having a seperate lateral connections, the new column can learn from previous columns without decreasing the performance on the old tasks. \n",
        "\n",
        "The image below shows a network of 3 tasks upon adding the third task. The dashed lines are frozen weights to fix task 1 & 2 performance and `a` connections are used to link old tasks knowledge to the new task.\n",
        "\n",
        "<img src=\"https://qph.fs.quoracdn.net/main-qimg-c1e7ad14cca99e0b97475ad014e02397.webp\" align=\"center\"> </img>\n",
        "\n",
        "This network offers one the architecture-based techniques to solve CL. That being said, the expansion per task can be limiting when the number of tasks increases. This in addition to that the network expects to have the task-id at inference time are important drawbacks of this architecture. It's still intuitive and an important benchmark so we'll discuss how to make a simple PNN.\n"
      ]
    },
    {
      "cell_type": "code",
      "metadata": {
        "id": "5b4uH__YeIuE"
      },
      "source": [
        "# some initial imports\n",
        "import numpy as np\n",
        "import matplotlib.pyplot as plt\n",
        "import seaborn as sns\n",
        "\n",
        "import torch\n",
        "import torch.nn as nn\n",
        "import torchvision.datasets as datasets\n",
        "import torchvision.transforms as transforms\n",
        "import torch.optim as optim\n",
        "import torch.nn.functional as F"
      ],
      "execution_count": null,
      "outputs": []
    },
    {
      "cell_type": "code",
      "metadata": {
        "id": "U4A2qeef4EGq"
      },
      "source": [
        "# switch to False to use CPU\n",
        "use_cuda = True\n",
        "\n",
        "use_cuda = use_cuda and torch.cuda.is_available()\n",
        "device = torch.device(\"cuda\" if use_cuda else \"cpu\");\n",
        "torch.manual_seed(1);"
      ],
      "execution_count": null,
      "outputs": []
    },
    {
      "cell_type": "code",
      "metadata": {
        "colab": {
          "base_uri": "https://localhost:8080/",
          "height": 652,
          "referenced_widgets": [
            "f2653f3aa953455986c4a198864108e5",
            "d14d943a287a45ed8b0f729300dbd25f",
            "a58ed18aa9a44e1785848282bae29ce8",
            "cb43278a5fc34cbf9bb97ef59a7b74d9",
            "37d1d4862f83482ea014011a96b1e92f",
            "c9874f99fb474ed2a3883b8663781d60",
            "41b3992effba4b929265689ec4ab8f96",
            "bcc4d3ebf8684df3b440e52226e4a97e",
            "1bb37f91620541b8916b5ede3c603bdf",
            "cc2492d98d2f42538ca6d8268e6af42b",
            "cdc47a3040ce4d84b5f8fa93565df518",
            "fd644821bb4b41f1aa0a4d4b3d919778",
            "df7c99226e2845e1ae94ad1625a87d9d",
            "32688a8e962947bb88b15c1563fd1efd",
            "c422208812d1456abadf064c76b78d19",
            "b75a9ceb94954fb0b2d73ab09dd15d7a",
            "2d255a2aef3c453f97cef553cda8736d",
            "beaa1e18b41949b6972af316b15f0968",
            "f7feb817206d400e82a0d72a69a544c5",
            "ace37a28ee6540dd8b8f2f60ec35c0af",
            "b7e55265282f458abbec069027d24d35",
            "62bc4e0cc0e8486dadd16b59a6959e7b",
            "0c32729c90c04becaddb71b120df7e49",
            "77a23ee39c964ced8f1b3f26687ec5c5",
            "8dde976777084ec7a3ece29b64c98322",
            "bef01186fb2f42de9af54d7cc712e8b8",
            "2ea561f72836480fa9e3e2408533d4cd",
            "8ec32135859d42b5ba59dab02072550e",
            "67c66810fe124403b6243389b3ab3c66",
            "c0ebf1b025bd4873b8d794ce7ab4e5c3",
            "e24354db2e5449cd8a30ee688ef33532",
            "56c25170404f48e68ee0110da21370ea"
          ]
        },
        "id": "eK7EoyUC4Hum",
        "outputId": "d6efd1fa-fef2-4855-cb41-f2002205ddc1"
      },
      "source": [
        "# Get MNIST data\n",
        "!git clone https://github.com/ContinualAI/colab.git continualai/colab\n",
        "\n",
        "from continualai.colab.scripts import mnist\n",
        "mnist.init()"
      ],
      "execution_count": null,
      "outputs": [
        {
          "output_type": "stream",
          "text": [
            "Cloning into 'continualai/colab'...\n",
            "remote: Enumerating objects: 124, done.\u001b[K\n",
            "remote: Counting objects: 100% (124/124), done.\u001b[K\n",
            "remote: Compressing objects: 100% (78/78), done.\u001b[K\n",
            "remote: Total 244 (delta 67), reused 88 (delta 41), pack-reused 120\u001b[K\n",
            "Receiving objects: 100% (244/244), 10.23 MiB | 39.09 MiB/s, done.\n",
            "Resolving deltas: 100% (109/109), done.\n",
            "Downloading train-images-idx3-ubyte.gz...\n",
            "Downloading t10k-images-idx3-ubyte.gz...\n",
            "Downloading train-labels-idx1-ubyte.gz...\n",
            "Downloading t10k-labels-idx1-ubyte.gz...\n",
            "Download complete.\n",
            "Save complete.\n",
            "Downloading https://storage.googleapis.com/cvdf-datasets/mnist/train-images-idx3-ubyte.gz to data/mnist/MNIST/raw/train-images-idx3-ubyte.gz\n"
          ],
          "name": "stdout"
        },
        {
          "output_type": "display_data",
          "data": {
            "application/vnd.jupyter.widget-view+json": {
              "model_id": "f2653f3aa953455986c4a198864108e5",
              "version_minor": 0,
              "version_major": 2
            },
            "text/plain": [
              "HBox(children=(FloatProgress(value=0.0, max=9912422.0), HTML(value='')))"
            ]
          },
          "metadata": {
            "tags": []
          }
        },
        {
          "output_type": "stream",
          "text": [
            "\n",
            "Extracting data/mnist/MNIST/raw/train-images-idx3-ubyte.gz to data/mnist/MNIST/raw\n",
            "Downloading https://storage.googleapis.com/cvdf-datasets/mnist/train-labels-idx1-ubyte.gz to data/mnist/MNIST/raw/train-labels-idx1-ubyte.gz\n"
          ],
          "name": "stdout"
        },
        {
          "output_type": "display_data",
          "data": {
            "application/vnd.jupyter.widget-view+json": {
              "model_id": "1bb37f91620541b8916b5ede3c603bdf",
              "version_minor": 0,
              "version_major": 2
            },
            "text/plain": [
              "HBox(children=(FloatProgress(value=0.0, max=28881.0), HTML(value='')))"
            ]
          },
          "metadata": {
            "tags": []
          }
        },
        {
          "output_type": "stream",
          "text": [
            "\n",
            "Extracting data/mnist/MNIST/raw/train-labels-idx1-ubyte.gz to data/mnist/MNIST/raw\n",
            "Downloading https://storage.googleapis.com/cvdf-datasets/mnist/t10k-images-idx3-ubyte.gz to data/mnist/MNIST/raw/t10k-images-idx3-ubyte.gz\n"
          ],
          "name": "stdout"
        },
        {
          "output_type": "display_data",
          "data": {
            "application/vnd.jupyter.widget-view+json": {
              "model_id": "2d255a2aef3c453f97cef553cda8736d",
              "version_minor": 0,
              "version_major": 2
            },
            "text/plain": [
              "HBox(children=(FloatProgress(value=0.0, max=1648877.0), HTML(value='')))"
            ]
          },
          "metadata": {
            "tags": []
          }
        },
        {
          "output_type": "stream",
          "text": [
            "\n",
            "Extracting data/mnist/MNIST/raw/t10k-images-idx3-ubyte.gz to data/mnist/MNIST/raw\n",
            "Downloading https://storage.googleapis.com/cvdf-datasets/mnist/t10k-labels-idx1-ubyte.gz to data/mnist/MNIST/raw/t10k-labels-idx1-ubyte.gz\n"
          ],
          "name": "stdout"
        },
        {
          "output_type": "display_data",
          "data": {
            "application/vnd.jupyter.widget-view+json": {
              "model_id": "8dde976777084ec7a3ece29b64c98322",
              "version_minor": 0,
              "version_major": 2
            },
            "text/plain": [
              "HBox(children=(FloatProgress(value=0.0, max=4542.0), HTML(value='')))"
            ]
          },
          "metadata": {
            "tags": []
          }
        },
        {
          "output_type": "stream",
          "text": [
            "\n",
            "Extracting data/mnist/MNIST/raw/t10k-labels-idx1-ubyte.gz to data/mnist/MNIST/raw\n",
            "Processing...\n"
          ],
          "name": "stdout"
        },
        {
          "output_type": "stream",
          "text": [
            "/usr/local/lib/python3.7/dist-packages/torchvision/datasets/mnist.py:479: UserWarning: The given NumPy array is not writeable, and PyTorch does not support non-writeable tensors. This means you can write to the underlying (supposedly non-writeable) NumPy array using the tensor. You may want to copy the array to protect its data or make it writeable before converting it to a tensor. This type of warning will be suppressed for the rest of this program. (Triggered internally at  /pytorch/torch/csrc/utils/tensor_numpy.cpp:143.)\n",
            "  return torch.from_numpy(parsed.astype(m[2], copy=False)).view(*s)\n"
          ],
          "name": "stderr"
        },
        {
          "output_type": "stream",
          "text": [
            "Done!\n"
          ],
          "name": "stdout"
        }
      ]
    },
    {
      "cell_type": "code",
      "metadata": {
        "id": "o2jv9bAh4J1o"
      },
      "source": [
        "# we will construct 5 tasks of MNIST, where every task is responsible for 2 digits\n",
        "x_train, t_train, x_test, t_test = mnist.load()\n",
        "# tasks to use\n",
        "task_classes_arr = [(0, 1), (2, 3), (4, 5), (6, 7), (8, 9)]\n",
        "tasks_num = len(task_classes_arr) # 5\n",
        "\n",
        "task_data = []\n",
        "for i, task_classes in enumerate(task_classes_arr):\n",
        "  train_mask = np.isin(t_train, task_classes)\n",
        "  test_mask = np.isin(t_test, task_classes)\n",
        "  x_train_task, t_train_task = x_train[train_mask], t_train[train_mask]\n",
        "  x_test_task, t_test_task = x_test[test_mask], t_test[test_mask]\n",
        "\n",
        "  task_data.append((x_train_task, t_train_task - (i * 2), \n",
        "                    x_test_task, t_test_task - (i * 2)))\n"
      ],
      "execution_count": null,
      "outputs": []
    },
    {
      "cell_type": "markdown",
      "metadata": {
        "id": "j_KR19pu4G_g"
      },
      "source": [
        "First we need to build a network for each column and combine those later in the main network. A column is just like an ordinary network with the exception of the lateral connections from the previous columns. An important part is that all the previous columns need to be infered before the current column, so that it can use the output with the lateral connections.\n",
        "\n",
        "To limit the expansion of the network we'll decrease the size on the columns of tasks that come after the first task. In the code we use a hidden layer of size `128` for task#1 and `32` for all the subsequent tasks.    "
      ]
    },
    {
      "cell_type": "code",
      "metadata": {
        "id": "jcgvm1oy4N_H"
      },
      "source": [
        "class Column(nn.Module):\n",
        "  def __init__(self,  col_id=0, hsize=128):\n",
        "    super().__init__()\n",
        "    # new layers per column\n",
        "    self.l1 = nn.Linear(784, hsize)\n",
        "    self.l2 = nn.Linear(hsize, 2)\n",
        "    # lateral connections for old intermediate outputs\n",
        "    # a set of connections per layer\n",
        "    self.Us = nn.ModuleList()\n",
        "    self.col_id = col_id\n",
        "    for col_i in range(self.col_id):\n",
        "      h = 128 if col_i == 0 else 32\n",
        "      lateral = nn.Linear(h, 2)\n",
        "      self.Us.append(lateral)\n",
        "\n",
        "  def add_lateral(self, x, prev_cols, lateral_weights):\n",
        "    \"\"\"Compute the o/p of lateral connections.\n",
        "     Returns zeros tensor for first column.\n",
        "     lateral_weights ([int]): list of weights to control\n",
        "     the lateral connections\"\"\"\n",
        "    outputs = torch.zeros_like(x)\n",
        "    for col_id, col in enumerate(prev_cols):\n",
        "      input = col.outputs\n",
        "      if lateral_weights:\n",
        "        input = input * lateral_weights[col_id]\n",
        "      layer = self.Us[col_id]\n",
        "      outputs += layer(input)\n",
        "    return outputs\n",
        "\n",
        "  def freeze(self):\n",
        "    \"freezes all parameters of the column. To be used when adding new columns.\"\n",
        "    for param in self.parameters():\n",
        "      param.requires_grad = False\n",
        "\n",
        "  def forward(self, x, prev_cols, lateral_weights):\n",
        "    \"lateral_weights ([int]): list of weights to control the lateral connections\"\n",
        "    # 1- Transfer Learning\n",
        "    # for all previous columns, compute old transfered knowledge\n",
        "    # and save it to the instance of the column\n",
        "    for i, col in enumerate(prev_cols):\n",
        "      # compute all layers first\n",
        "      l_w = lateral_weights[:i+1]\n",
        "      col(x, prev_cols[:i], l_w)\n",
        "\n",
        "    # 2- New Knowledge\n",
        "    # input/1st layer\n",
        "    x = x.view(x.size(0), -1)\n",
        "    x = F.relu(self.l1(x))\n",
        "    # save intermediate outputs of current col\n",
        "    self.outputs = x\n",
        "    # last/2nd layer\n",
        "    x = self.l2(x)\n",
        "    # add lateral connextion o/p from all previous columns\n",
        "    x += self.add_lateral(x, prev_cols=prev_cols,\n",
        "                          lateral_weights=lateral_weights)\n",
        "\n",
        "    return x"
      ],
      "execution_count": null,
      "outputs": []
    },
    {
      "cell_type": "markdown",
      "metadata": {
        "id": "mvevuQUR7yMQ"
      },
      "source": [
        "To create the whole network, we'll have a ModuleList that holds the columns. Upon adding a new task, all the columns are freezed and a new column with proper lateral connections is instantiated. For the forward pass we need to indicate which column to compute and it automatically computes all its previous columns. "
      ]
    },
    {
      "cell_type": "code",
      "metadata": {
        "id": "Gyy_QkD_Jcpz"
      },
      "source": [
        "class Net(nn.Module):\n",
        "  def __init__(self):\n",
        "    super().__init__()\n",
        "    self.cols = nn.ModuleList()\n",
        "  \n",
        "  def add_column(self, hsize=128):\n",
        "    # freeze all previous columns\n",
        "    for col in self.cols:\n",
        "      col.freeze()\n",
        "    # create new column\n",
        "    col_id = len(self.cols)\n",
        "    col = Column(col_id, hsize)\n",
        "    self.cols.append(col)\n",
        "\n",
        "  def forward(self, x, id, lateral_weights=None):\n",
        "    if lateral_weights is None:\n",
        "      # all lateral connections are on by default\n",
        "      lateral_weights = [1 for _ in range(id)]\n",
        "    col = self.cols[id]\n",
        "    return col(x, self.cols[:id], lateral_weights)\n",
        "    "
      ],
      "execution_count": null,
      "outputs": []
    },
    {
      "cell_type": "code",
      "metadata": {
        "id": "QAXUWl1HKPFH"
      },
      "source": [
        "# basic training and testing loops\n",
        "def train(model, task_id, device, x_train, t_train,\n",
        "          optimizer, epochs=10, log_training=False):\n",
        "    for epoch in range(epochs):\n",
        "      model.train()\n",
        "      \n",
        "      for start in range(0, len(t_train)-1, 256):\n",
        "        end = start + 256\n",
        "        x, y = torch.from_numpy(x_train[start:end]), torch.from_numpy(t_train[start:end]).long()\n",
        "        x, y = x.to(device), y.to(device)\n",
        "        \n",
        "        optimizer.zero_grad()\n",
        "\n",
        "        output = model(x, task_id)\n",
        "        loss = F.cross_entropy(output, y)\n",
        "        loss.backward()\n",
        "        optimizer.step()\n",
        "        if log_training:\n",
        "          print('Train Epoch: {} \\tLoss: {:.6f}'.format(epoch, loss.item()))\n",
        "\n",
        "def test(model, task_id, device, x_test, t_test, lateral_weights=None):\n",
        "    model.eval()\n",
        "    test_loss = 0\n",
        "    correct = 0\n",
        "    for start in range(0, len(t_test)-1, 256):\n",
        "      end = start + 256\n",
        "      with torch.no_grad():\n",
        "        x, y = torch.from_numpy(x_test[start:end]), torch.from_numpy(t_test[start:end]).long()\n",
        "        x, y = x.to(device), y.to(device)\n",
        "        output = model(x, task_id, lateral_weights=lateral_weights)\n",
        "        test_loss += F.cross_entropy(output, y).item() # sum up batch loss\n",
        "        pred = output.max(1, keepdim=True)[1] # get the index of the max logit\n",
        "        correct += pred.eq(y.view_as(pred)).sum().item()\n",
        "\n",
        "    test_loss /= len(t_test)\n",
        "    return test_loss, 100. * correct / len(t_test)"
      ],
      "execution_count": null,
      "outputs": []
    },
    {
      "cell_type": "markdown",
      "metadata": {
        "id": "rNnoPQau-2I1"
      },
      "source": [
        "In the next step we'll have a function that adds a column per task. In order to investigate how much the network have used old columns' output, we'll test once with turning on all the lateral connections and another with them off."
      ]
    },
    {
      "cell_type": "code",
      "metadata": {
        "id": "kLST74EoKqxM"
      },
      "source": [
        "def train_PNN(epochs=10):\n",
        "  \"Train all 5 taks using PNN\"\n",
        "  accs_grid_a = []\n",
        "  accs_grid_no_a = []\n",
        "\n",
        "  # to track the increase of the number of parameters\n",
        "  parameters = []\n",
        "  grad_parameters = []\n",
        "\n",
        "  net = Net()\n",
        "  for task_id in range(tasks_num):\n",
        "    # train on current task\n",
        "    x_train, t_train, _, _ = task_data[task_id]\n",
        "    # smaller column sizes from 2nd task inwards to limit expansion\n",
        "    if task_id > 0:\n",
        "      net.add_column(hsize=32)\n",
        "    else: net.add_column()\n",
        "    optimizer = optim.SGD(net.parameters(), lr=0.01, momentum=0.9)\n",
        "    # increase of parameters over time\n",
        "    parameters.append(sum(p.numel() for p in net.parameters()))\n",
        "    grad_parameters.append(sum(p.numel() for p in net.parameters() if p.requires_grad))\n",
        "    train(net, task_id, device, x_train, t_train, optimizer,\n",
        "          epochs=epochs, log_training=False)\n",
        "\n",
        "    # test on all tasks with lateral connections `a`\n",
        "    \n",
        "    accs_a = []\n",
        "    for id in range(0, task_id + 1):\n",
        "      _, _, x_test, t_test = task_data[id]\n",
        "      # we'll have the lateral weights as fully-on here\n",
        "      l_w = [1] * id\n",
        "      _, test_acc = test(net, id, device, x_test, t_test, lateral_weights=l_w)\n",
        "      accs_a.append(test_acc)\n",
        "  \n",
        "    if task_id < (tasks_num - 1):\n",
        "      accs_a.extend([np.nan] * (4 - task_id))\n",
        "    accs_grid_a.append(accs_a)\n",
        "\n",
        "\n",
        "    # test on all tasks without lateral connections `a`\n",
        "    accs_no_a = []\n",
        "    for id in range(0, task_id + 1):\n",
        "      _, _, x_test, t_test = task_data[id]\n",
        "      # we'll have the lateral weights as fully-off here\n",
        "      l_w = [0] * id\n",
        "      _, test_acc = test(net, id, device, x_test, t_test, lateral_weights=l_w)\n",
        "      accs_no_a.append(test_acc)\n",
        "  \n",
        "    if task_id < (tasks_num - 1):\n",
        "      accs_no_a.extend([np.nan] * (4 - task_id))\n",
        "    accs_grid_no_a.append(accs_no_a)\n",
        "\n",
        "  # return accuracies with and without lateral connections \n",
        "  return accs_grid_a, accs_grid_no_a, parameters, grad_parameters"
      ],
      "execution_count": null,
      "outputs": []
    },
    {
      "cell_type": "code",
      "metadata": {
        "id": "f-qYfSd4M-xF"
      },
      "source": [
        "accs_a, accs_no_a, parameters, grad_parameters= train_PNN(epochs=15)"
      ],
      "execution_count": null,
      "outputs": []
    },
    {
      "cell_type": "markdown",
      "metadata": {
        "id": "4CwebvEDBy0M"
      },
      "source": [
        "We can see from the below figure that the network uses some of the knowledge learnt from previous tasks to learn new tasks. As task number increases, its dependance on lateral connections increases (due to having more more connections as the task# progresses.) MNIST problem with multi-head setting is relatively simple though and with more complex tasks we can see more prononced releance on transfer learning from previous columns and can have a proxy for task similarity. A deeper analysis can be found in [the original paper](https://arxiv.org/pdf/1606.04671.pdf)"
      ]
    },
    {
      "cell_type": "code",
      "metadata": {
        "id": "vcIdCFHkUkk3",
        "colab": {
          "base_uri": "https://localhost:8080/",
          "height": 351
        },
        "outputId": "e85b13a3-a008-4c21-93d0-06d2d28e137f"
      },
      "source": [
        "fig, ax = plt.subplots(1, 2, figsize=(10, 5))\n",
        "\n",
        "ax[0].plot(range(1, 6), np.nanmean(accs_a, axis=1))\n",
        "ax[0].plot(range(1, 6), np.nanmean(accs_no_a, axis=1))\n",
        "ax[0].legend(['With lateral connections', 'Without lateral connections'])\n",
        "ax[0].set_ylabel('Accumulated Accuracy for Seen Tasks')\n",
        "ax[0].set_xlabel('Task Number')\n",
        "\n",
        "ax[1].plot(range(1, 6), accs_a[-1])\n",
        "ax[1].plot(range(1, 6), accs_no_a[-1])\n",
        "ax[1].legend(['With lateral connections', 'Without lateral connections'])\n",
        "ax[1].set_ylabel('Task Accuracy')\n",
        "ax[1].set_xlabel('Task Number')"
      ],
      "execution_count": null,
      "outputs": [
        {
          "output_type": "execute_result",
          "data": {
            "text/plain": [
              "Text(0.5, 0, 'Task Number')"
            ]
          },
          "metadata": {
            "tags": []
          },
          "execution_count": 10
        },
        {
          "output_type": "display_data",
          "data": {
            "image/png": "[encoded data removed]",
            "text/plain": [
              "<Figure size 720x360 with 2 Axes>"
            ]
          },
          "metadata": {
            "tags": [],
            "needs_background": "light"
          }
        }
      ]
    },
    {
      "cell_type": "markdown",
      "metadata": {
        "id": "beU_K_ViGtXd"
      },
      "source": [
        "Since we add new column for every task, the number of parameters expands. The number of learnable parameters expands in more modest rate though as we are freezing old columns. In the figure below we can see the rate at which the parameters expands. Note that since we use smaller column size starting from task 2 (32 neurons vs. 128) the learnable parameters decrease at first then increases very slowly afterwards."
      ]
    },
    {
      "cell_type": "code",
      "metadata": {
        "colab": {
          "base_uri": "https://localhost:8080/"
        },
        "id": "Ku2oKU9AL_ij",
        "outputId": "97e6b013-f164-45b9-835e-2e69f0e062af"
      },
      "source": [
        "# Number of learnable paramters decreases after task#1, increase by just 66 after task#2\n",
        "print(grad_parameters)"
      ],
      "execution_count": null,
      "outputs": [
        {
          "output_type": "stream",
          "text": [
            "[100738, 25444, 25510, 25576, 25642]\n"
          ],
          "name": "stdout"
        }
      ]
    },
    {
      "cell_type": "code",
      "metadata": {
        "colab": {
          "base_uri": "https://localhost:8080/",
          "height": 351
        },
        "id": "hfksKzteFbFf",
        "outputId": "055b03b0-4953-48dd-eece-34a2326cf46f"
      },
      "source": [
        "fig, ax = plt.subplots(1, 1, figsize=(5, 5))\n",
        "ax.plot(range(1, 6), parameters)\n",
        "ax.plot(range(1, 6), grad_parameters)\n",
        "ax.set_yscale('log')\n",
        "ax.legend(['All model parameters', 'Learnable Model Parameters'])\n",
        "ax.set_ylabel('Number of Parameters')\n",
        "ax.set_xlabel('Task Number')"
      ],
      "execution_count": null,
      "outputs": [
        {
          "output_type": "execute_result",
          "data": {
            "text/plain": [
              "Text(0.5, 0, 'Task Number')"
            ]
          },
          "metadata": {
            "tags": []
          },
          "execution_count": 12
        },
        {
          "output_type": "display_data",
          "data": {
            "image/png": "[encoded data removed]",
            "text/plain": [
              "<Figure size 360x360 with 1 Axes>"
            ]
          },
          "metadata": {
            "tags": [],
            "needs_background": "light"
          }
        }
      ]
    },
    {
      "cell_type": "code",
      "metadata": {
        "id": "xdyFPVX7DOXr",
        "outputId": "38d3c6d7-93fb-4520-8ef7-4a07e68038f3",
        "colab": {
          "base_uri": "https://localhost:8080/"
        }
      },
      "source": [
        "!git status\n"
      ],
      "execution_count": 1,
      "outputs": [
        {
          "output_type": "stream",
          "text": [
            "fatal: not a git repository (or any of the parent directories): .git\n"
          ],
          "name": "stdout"
        }
      ]
    },
    {
      "cell_type": "code",
      "metadata": {
        "id": "_LM2sqT_p06h"
      },
      "source": [
        ""
      ],
      "execution_count": null,
      "outputs": []
    }
  ]
}